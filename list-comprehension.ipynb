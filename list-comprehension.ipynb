{
 "cells": [
  {
   "cell_type": "code",
   "execution_count": 1,
   "id": "6446b954-7bd2-4c00-9752-b37c79264cd4",
   "metadata": {},
   "outputs": [],
   "source": [
    "#concise way to create lists in python compact and easier to read than traditiona loops\n",
    "#[expressions for value in iterable condition]\n",
    "fruits=[\"orange\",\"pineapple\",\"apple\",\"mangoes\"]\n",
    "fruit=[fruit for fruit in fruits]"
   ]
  },
  {
   "cell_type": "code",
   "execution_count": 3,
   "id": "0c11d170-d3ba-42c9-846c-63b2c068ee65",
   "metadata": {},
   "outputs": [
    {
     "name": "stdout",
     "output_type": "stream",
     "text": [
      "['orange', 'pineapple', 'apple', 'mangoes']\n"
     ]
    }
   ],
   "source": [
    "print(fruit)"
   ]
  },
  {
   "cell_type": "code",
   "execution_count": 5,
   "id": "b9ea2f2f-9ccd-4ccf-ac12-d0aa97c9e322",
   "metadata": {},
   "outputs": [
    {
     "name": "stdout",
     "output_type": "stream",
     "text": [
      "[2, 4, 6, 8, 10, 12, 14, 16, 18, 0]\n"
     ]
    }
   ],
   "source": [
    "numbers=[1,2,3,4,5,6,7,8,9,0]\n",
    "number=[number*2 for number in numbers]\n",
    "print(number)"
   ]
  },
  {
   "cell_type": "code",
   "execution_count": 7,
   "id": "31450261-1833-4797-a7aa-ae9c2c6ddad1",
   "metadata": {},
   "outputs": [
    {
     "name": "stdout",
     "output_type": "stream",
     "text": [
      "[2, 3, 7, 8, 9]\n"
     ]
    }
   ],
   "source": [
    "numberss=[-1,2,3,-4,-6,7,8,9,-5]\n",
    "num=[num for num in numberss if num>0]\n",
    "print(num)"
   ]
  },
  {
   "cell_type": "code",
   "execution_count": null,
   "id": "d2c1aefc-d15c-4ac5-a09a-a8f5fd9cba04",
   "metadata": {},
   "outputs": [],
   "source": []
  }
 ],
 "metadata": {
  "kernelspec": {
   "display_name": "Python 3 (ipykernel)",
   "language": "python",
   "name": "python3"
  },
  "language_info": {
   "codemirror_mode": {
    "name": "ipython",
    "version": 3
   },
   "file_extension": ".py",
   "mimetype": "text/x-python",
   "name": "python",
   "nbconvert_exporter": "python",
   "pygments_lexer": "ipython3",
   "version": "3.12.4"
  }
 },
 "nbformat": 4,
 "nbformat_minor": 5
}
