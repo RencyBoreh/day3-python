{
 "cells": [
  {
   "cell_type": "code",
   "execution_count": 3,
   "id": "7190b81d-7728-48b0-8dfa-667b7e61520c",
   "metadata": {},
   "outputs": [
    {
     "name": "stdin",
     "output_type": "stream",
     "text": [
      "Guess a letter: B\n"
     ]
    },
    {
     "name": "stdout",
     "output_type": "stream",
     "text": [
      "Try Again!\n"
     ]
    }
   ],
   "source": [
    "#used to test whether a value or variable is found in a sequence (str,list,tuple,dictionary,set)\n",
    "#in\n",
    "#not in\n",
    "word=\"RENCY\"\n",
    "guess=input(\"Guess a letter:\").upper()\n",
    "if guess in word:\n",
    "    print(f\"The letter you guessed is:{guess} and it is found in the word\")\n",
    "else:\n",
    "    print(\"Try Again!\")"
   ]
  },
  {
   "cell_type": "code",
   "execution_count": 9,
   "id": "ad8dcbf7-a7a7-4e45-a5db-c90a13991609",
   "metadata": {},
   "outputs": [
    {
     "name": "stdin",
     "output_type": "stream",
     "text": [
      "Guess a letter: a\n"
     ]
    },
    {
     "name": "stdout",
     "output_type": "stream",
     "text": [
      "Correct!\n"
     ]
    }
   ],
   "source": [
    "##not in\n",
    "words=\"KIRINYAGA\"\n",
    "guesss=input(\"Guess a letter:\").upper()\n",
    "if guesss not in words:\n",
    "    print(\"Try Again!\")\n",
    "else:\n",
    "    print(\"Correct!\")\n",
    "    "
   ]
  },
  {
   "cell_type": "code",
   "execution_count": null,
   "id": "66da0122-fd22-4cba-94bc-a02ab2b8f4a7",
   "metadata": {},
   "outputs": [],
   "source": []
  }
 ],
 "metadata": {
  "kernelspec": {
   "display_name": "Python 3 (ipykernel)",
   "language": "python",
   "name": "python3"
  },
  "language_info": {
   "codemirror_mode": {
    "name": "ipython",
    "version": 3
   },
   "file_extension": ".py",
   "mimetype": "text/x-python",
   "name": "python",
   "nbconvert_exporter": "python",
   "pygments_lexer": "ipython3",
   "version": "3.12.4"
  }
 },
 "nbformat": 4,
 "nbformat_minor": 5
}
