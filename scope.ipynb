{
 "cells": [
  {
   "cell_type": "code",
   "execution_count": 11,
   "id": "ec9b8308-7b93-4464-985f-54f1db6ee34c",
   "metadata": {},
   "outputs": [
    {
     "name": "stdout",
     "output_type": "stream",
     "text": [
      "2\n"
     ]
    }
   ],
   "source": [
    "#variable scope is where a  variable is visible and accessble.\n",
    "#scope resolution-LEGB(Local->Embedded->Global->Built-in)\n",
    "#local-variable has a local scope if it declared inside a function\n",
    "def num():\n",
    "   x=2\n",
    "   print(x)\n",
    "num()"
   ]
  },
  {
   "cell_type": "code",
   "execution_count": 58,
   "id": "a906ba2e-5c50-4d3f-8953-226e11d7729b",
   "metadata": {},
   "outputs": [
    {
     "name": "stdout",
     "output_type": "stream",
     "text": [
      "30\n"
     ]
    }
   ],
   "source": [
    "#Enclosed\n",
    "def nums():\n",
    "    x=30\n",
    "    def numm():\n",
    "       print(x)\n",
    "    numm()\n",
    "nums()"
   ]
  },
  {
   "cell_type": "code",
   "execution_count": 62,
   "id": "a00dabb4-5371-4604-960f-c44fe34a6ce1",
   "metadata": {},
   "outputs": [
    {
     "name": "stdout",
     "output_type": "stream",
     "text": [
      "300\n"
     ]
    }
   ],
   "source": [
    "#Global\n",
    "y=300\n",
    "def number():\n",
    "    print(y)\n",
    "number()\n"
   ]
  },
  {
   "cell_type": "code",
   "execution_count": null,
   "id": "bf418402-100b-467c-8725-736ddb11cb3e",
   "metadata": {},
   "outputs": [],
   "source": []
  }
 ],
 "metadata": {
  "kernelspec": {
   "display_name": "Python 3 (ipykernel)",
   "language": "python",
   "name": "python3"
  },
  "language_info": {
   "codemirror_mode": {
    "name": "ipython",
    "version": 3
   },
   "file_extension": ".py",
   "mimetype": "text/x-python",
   "name": "python",
   "nbconvert_exporter": "python",
   "pygments_lexer": "ipython3",
   "version": "3.12.4"
  }
 },
 "nbformat": 4,
 "nbformat_minor": 5
}
